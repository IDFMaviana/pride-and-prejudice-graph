{
 "cells": [
  {
   "cell_type": "code",
   "execution_count": 1,
   "metadata": {},
   "outputs": [],
   "source": [
    "#pip install en_core_web_sm"
   ]
  },
  {
   "cell_type": "code",
   "execution_count": null,
   "metadata": {},
   "outputs": [],
   "source": [
    "#pip install openpyxl"
   ]
  },
  {
   "cell_type": "code",
   "execution_count": null,
   "metadata": {},
   "outputs": [],
   "source": [
    "#!python -m spacy download en_core_web_sm"
   ]
  },
  {
   "cell_type": "code",
   "execution_count": 1,
   "metadata": {},
   "outputs": [],
   "source": [
    "import spacy\n",
    "import os\n",
    "import pandas as pd\n",
    "import networkx as nx\n",
    "import matplotlib.pyplot as plt\n",
    "import community as community_louvain\n",
    "from spacy.matcher import Matcher"
   ]
  },
  {
   "cell_type": "code",
   "execution_count": 2,
   "metadata": {},
   "outputs": [],
   "source": [
    "ELM = spacy.load('en_core_web_sm')"
   ]
  },
  {
   "cell_type": "code",
   "execution_count": 3,
   "metadata": {},
   "outputs": [
    {
     "name": "stdout",
     "output_type": "stream",
     "text": [
      "<spacy.lang.en.English object at 0x000002148E6320E0>\n"
     ]
    }
   ],
   "source": [
    "print(ELM)"
   ]
  },
  {
   "cell_type": "code",
   "execution_count": 4,
   "metadata": {},
   "outputs": [],
   "source": [
    "texto = open(file= 'data/jane-austen-pride-prejudice.txt').read()\n",
    "doc_texto = ELM(texto)"
   ]
  },
  {
   "cell_type": "code",
   "execution_count": 12,
   "metadata": {},
   "outputs": [],
   "source": [
    "data_characters = pd.read_excel('data/characters.xlsx')"
   ]
  },
  {
   "cell_type": "code",
   "execution_count": 13,
   "metadata": {},
   "outputs": [
    {
     "data": {
      "text/html": [
       "<div>\n",
       "<style scoped>\n",
       "    .dataframe tbody tr th:only-of-type {\n",
       "        vertical-align: middle;\n",
       "    }\n",
       "\n",
       "    .dataframe tbody tr th {\n",
       "        vertical-align: top;\n",
       "    }\n",
       "\n",
       "    .dataframe thead th {\n",
       "        text-align: right;\n",
       "    }\n",
       "</style>\n",
       "<table border=\"1\" class=\"dataframe\">\n",
       "  <thead>\n",
       "    <tr style=\"text-align: right;\">\n",
       "      <th></th>\n",
       "      <th>Characters</th>\n",
       "      <th>Firstname</th>\n",
       "      <th>Nickname</th>\n",
       "      <th>Nickname2</th>\n",
       "      <th>real_name</th>\n",
       "    </tr>\n",
       "  </thead>\n",
       "  <tbody>\n",
       "    <tr>\n",
       "      <th>0</th>\n",
       "      <td>Mr. Bennet</td>\n",
       "      <td>Mr. Bennet</td>\n",
       "      <td>Bennet</td>\n",
       "      <td>NaN</td>\n",
       "      <td>Mr. Bennet/Mrs.Bennet</td>\n",
       "    </tr>\n",
       "    <tr>\n",
       "      <th>1</th>\n",
       "      <td>Mrs. Bennet</td>\n",
       "      <td>Mrs. Bennet</td>\n",
       "      <td>Bennet</td>\n",
       "      <td>NaN</td>\n",
       "      <td>Mr. Bennet/Mrs.Bennet</td>\n",
       "    </tr>\n",
       "    <tr>\n",
       "      <th>2</th>\n",
       "      <td>Jane Bennet</td>\n",
       "      <td>Jane</td>\n",
       "      <td>NaN</td>\n",
       "      <td>NaN</td>\n",
       "      <td>Jane Bennet</td>\n",
       "    </tr>\n",
       "    <tr>\n",
       "      <th>3</th>\n",
       "      <td>Miss Elizabeth Bennet</td>\n",
       "      <td>Elizabeth</td>\n",
       "      <td>Eliza</td>\n",
       "      <td>Lizzy</td>\n",
       "      <td>Elizabeth</td>\n",
       "    </tr>\n",
       "    <tr>\n",
       "      <th>4</th>\n",
       "      <td>Mary Bennet</td>\n",
       "      <td>Mary</td>\n",
       "      <td>NaN</td>\n",
       "      <td>NaN</td>\n",
       "      <td>Mary Bennet</td>\n",
       "    </tr>\n",
       "  </tbody>\n",
       "</table>\n",
       "</div>"
      ],
      "text/plain": [
       "              Characters    Firstname Nickname Nickname2  \\\n",
       "0             Mr. Bennet   Mr. Bennet   Bennet       NaN   \n",
       "1            Mrs. Bennet  Mrs. Bennet   Bennet       NaN   \n",
       "2            Jane Bennet         Jane      NaN       NaN   \n",
       "3  Miss Elizabeth Bennet    Elizabeth   Eliza      Lizzy   \n",
       "4            Mary Bennet         Mary      NaN       NaN   \n",
       "\n",
       "               real_name  \n",
       "0  Mr. Bennet/Mrs.Bennet  \n",
       "1  Mr. Bennet/Mrs.Bennet  \n",
       "2            Jane Bennet  \n",
       "3              Elizabeth  \n",
       "4            Mary Bennet  "
      ]
     },
     "execution_count": 13,
     "metadata": {},
     "output_type": "execute_result"
    }
   ],
   "source": [
    "data_characters.head()"
   ]
  },
  {
   "cell_type": "code",
   "execution_count": 14,
   "metadata": {},
   "outputs": [
    {
     "data": {
      "text/html": [
       "<span class=\"tex2jax_ignore\"><div class=\"entities\" style=\"line-height: 2.5; direction: ltr\">\n",
       "<mark class=\"entity\" style=\"background: #aa9cfc; padding: 0.45em 0.6em; margin: 0 0.25em; line-height: 1; border-radius: 0.35em;\">\n",
       "    ﻿CHAPTER I.\n",
       "\n",
       "\n",
       "    <span style=\"font-size: 0.8em; font-weight: bold; line-height: 1; border-radius: 0.35em; vertical-align: middle; margin-left: 0.5rem\">PERSON</span>\n",
       "</mark>\n",
       "It is a truth universally acknowledged, that a single man in possession<br>of a good fortune, must be in want of a wife.<br><br>However little known the feelings or views of such a man may be on his<br>\n",
       "<mark class=\"entity\" style=\"background: #e4e7d2; padding: 0.45em 0.6em; margin: 0 0.25em; line-height: 1; border-radius: 0.35em;\">\n",
       "    first\n",
       "    <span style=\"font-size: 0.8em; font-weight: bold; line-height: 1; border-radius: 0.35em; vertical-align: middle; margin-left: 0.5rem\">ORDINAL</span>\n",
       "</mark>\n",
       " entering a neighbourhood, this truth is so well fixed in the minds<br>of the surrounding families, that he is considered as the rightful<br>property of \n",
       "<mark class=\"entity\" style=\"background: #e4e7d2; padding: 0.45em 0.6em; margin: 0 0.25em; line-height: 1; border-radius: 0.35em;\">\n",
       "    some one\n",
       "    <span style=\"font-size: 0.8em; font-weight: bold; line-height: 1; border-radius: 0.35em; vertical-align: middle; margin-left: 0.5rem\">CARDINAL</span>\n",
       "</mark>\n",
       " or other of their daughters.<br><br>&quot;My dear Mr. \n",
       "<mark class=\"entity\" style=\"background: #aa9cfc; padding: 0.45em 0.6em; margin: 0 0.25em; line-height: 1; border-radius: 0.35em;\">\n",
       "    Bennet\n",
       "    <span style=\"font-size: 0.8em; font-weight: bold; line-height: 1; border-radius: 0.35em; vertical-align: middle; margin-left: 0.5rem\">PERSON</span>\n",
       "</mark>\n",
       ",&quot; said his lady to him one day, &quot;have you heard that<br>\n",
       "<mark class=\"entity\" style=\"background: #9cc9cc; padding: 0.45em 0.6em; margin: 0 0.25em; line-height: 1; border-radius: 0.35em;\">\n",
       "    Netherfield Park\n",
       "    <span style=\"font-size: 0.8em; font-weight: bold; line-height: 1; border-radius: 0.35em; vertical-align: middle; margin-left: 0.5rem\">FAC</span>\n",
       "</mark>\n",
       " is let at last?&quot;<br><br>Mr. \n",
       "<mark class=\"entity\" style=\"background: #aa9cfc; padding: 0.45em 0.6em; margin: 0 0.25em; line-height: 1; border-radius: 0.35em;\">\n",
       "    Bennet\n",
       "    <span style=\"font-size: 0.8em; font-weight: bold; line-height: 1; border-radius: 0.35em; vertical-align: middle; margin-left: 0.5rem\">PERSON</span>\n",
       "</mark>\n",
       " replied that he had not.<br><br>&quot;But it is,&quot; returned she; &quot;for Mrs. \n",
       "<mark class=\"entity\" style=\"background: #aa9cfc; padding: 0.45em 0.6em; margin: 0 0.25em; line-height: 1; border-radius: 0.35em;\">\n",
       "    Long\n",
       "    <span style=\"font-size: 0.8em; font-weight: bold; line-height: 1; border-radius: 0.35em; vertical-align: middle; margin-left: 0.5rem\">PERSON</span>\n",
       "</mark>\n",
       " has just been here, and she<br>told me all about </div></span>"
      ],
      "text/plain": [
       "<IPython.core.display.HTML object>"
      ]
     },
     "metadata": {},
     "output_type": "display_data"
    }
   ],
   "source": [
    "spacy.displacy.render(doc_texto[0:150],style = \"ent\",jupyter = True)"
   ]
  },
  {
   "cell_type": "markdown",
   "metadata": {},
   "source": [
    "## configura a busca de entidades"
   ]
  },
  {
   "cell_type": "code",
   "execution_count": 15,
   "metadata": {},
   "outputs": [],
   "source": [
    "matcher = Matcher(ELM.vocab)\n",
    "pattern = [{'POS':'PROPN'},{'POS':'PROPN'}]\n",
    "matcher.add('regra a',[pattern])\n",
    "matches = matcher(doc_texto)"
   ]
  },
  {
   "cell_type": "markdown",
   "metadata": {},
   "source": [
    "Percorre as entidades de cria uma lista com as entidades localizadas + a frase em que foi localizada a entidade"
   ]
  },
  {
   "cell_type": "code",
   "execution_count": 18,
   "metadata": {},
   "outputs": [],
   "source": [
    "sent_entity_df = []\n",
    "for i in doc_texto.sents:\n",
    "    entiti_list = [i.text for i in i.ents if i.label_ == \"PERSON\"]\n",
    "    sent_entity_df.append({\"sentence\": i , \"entities\": entiti_list#,\"matches\" :match_text_list}\n",
    "                          })\n",
    "#Cria um dataframe com as entidades localizadas.\n",
    "sent_entity_df = pd.DataFrame(sent_entity_df)"
   ]
  },
  {
   "cell_type": "code",
   "execution_count": 19,
   "metadata": {},
   "outputs": [
    {
     "data": {
      "text/html": [
       "<div>\n",
       "<style scoped>\n",
       "    .dataframe tbody tr th:only-of-type {\n",
       "        vertical-align: middle;\n",
       "    }\n",
       "\n",
       "    .dataframe tbody tr th {\n",
       "        vertical-align: top;\n",
       "    }\n",
       "\n",
       "    .dataframe thead th {\n",
       "        text-align: right;\n",
       "    }\n",
       "</style>\n",
       "<table border=\"1\" class=\"dataframe\">\n",
       "  <thead>\n",
       "    <tr style=\"text-align: right;\">\n",
       "      <th></th>\n",
       "      <th>sentence</th>\n",
       "      <th>entities</th>\n",
       "    </tr>\n",
       "  </thead>\n",
       "  <tbody>\n",
       "    <tr>\n",
       "      <th>0</th>\n",
       "      <td>(﻿CHAPTER, I., \\n\\n)</td>\n",
       "      <td>[﻿CHAPTER I.\\n\\n]</td>\n",
       "    </tr>\n",
       "    <tr>\n",
       "      <th>1</th>\n",
       "      <td>(It, is, a, truth, universally, acknowledged, ...</td>\n",
       "      <td>[]</td>\n",
       "    </tr>\n",
       "    <tr>\n",
       "      <th>2</th>\n",
       "      <td>(However, little, known, the, feelings, or, vi...</td>\n",
       "      <td>[]</td>\n",
       "    </tr>\n",
       "    <tr>\n",
       "      <th>3</th>\n",
       "      <td>(\", My, dear, Mr., Bennet, ,, \", said, his, la...</td>\n",
       "      <td>[Bennet]</td>\n",
       "    </tr>\n",
       "    <tr>\n",
       "      <th>4</th>\n",
       "      <td>(\", \\n\\n, Mr., Bennet, replied, that, he, had,...</td>\n",
       "      <td>[Bennet]</td>\n",
       "    </tr>\n",
       "    <tr>\n",
       "      <th>5</th>\n",
       "      <td>(\", But, it, is, ,, \", returned, she, ;, \", fo...</td>\n",
       "      <td>[Long]</td>\n",
       "    </tr>\n",
       "    <tr>\n",
       "      <th>6</th>\n",
       "      <td>(\", \\n\\n, Mr., Bennet, made, no, answer, ., \\n\\n)</td>\n",
       "      <td>[Bennet]</td>\n",
       "    </tr>\n",
       "    <tr>\n",
       "      <th>7</th>\n",
       "      <td>(\", Do, not, you, want, to, know, who, has, ta...</td>\n",
       "      <td>[]</td>\n",
       "    </tr>\n",
       "    <tr>\n",
       "      <th>8</th>\n",
       "      <td>(\", You, want, to, tell, me, ,, and, I, have, ...</td>\n",
       "      <td>[]</td>\n",
       "    </tr>\n",
       "    <tr>\n",
       "      <th>9</th>\n",
       "      <td>(\", \\n\\n, This, was, invitation, enough, ., \\n\\n)</td>\n",
       "      <td>[]</td>\n",
       "    </tr>\n",
       "    <tr>\n",
       "      <th>10</th>\n",
       "      <td>(\", Why, ,, my, dear, ,, you, must, know, ,, M...</td>\n",
       "      <td>[Long, Morris, Michaelmas]</td>\n",
       "    </tr>\n",
       "    <tr>\n",
       "      <th>11</th>\n",
       "      <td>(\", \\n\\n, \", What, is, his, name, ?, \", \\n\\n, ...</td>\n",
       "      <td>[]</td>\n",
       "    </tr>\n",
       "    <tr>\n",
       "      <th>12</th>\n",
       "      <td>(\", \\n\\n, \", Is, he, married, or, single, ?, \"...</td>\n",
       "      <td>[]</td>\n",
       "    </tr>\n",
       "    <tr>\n",
       "      <th>13</th>\n",
       "      <td>(A, single, man, of, large, fortune, ;, four, ...</td>\n",
       "      <td>[]</td>\n",
       "    </tr>\n",
       "    <tr>\n",
       "      <th>14</th>\n",
       "      <td>(What, a, fine, thing, for, our, girls, !, \", ...</td>\n",
       "      <td>[]</td>\n",
       "    </tr>\n",
       "    <tr>\n",
       "      <th>15</th>\n",
       "      <td>(how, can, it, affect, them, ?)</td>\n",
       "      <td>[]</td>\n",
       "    </tr>\n",
       "    <tr>\n",
       "      <th>16</th>\n",
       "      <td>(\", \\n\\n, \", My, dear, Mr., Bennet, ,, \", repl...</td>\n",
       "      <td>[Bennet]</td>\n",
       "    </tr>\n",
       "    <tr>\n",
       "      <th>17</th>\n",
       "      <td>(You, \\n, must, know, that, I, am, thinking, o...</td>\n",
       "      <td>[]</td>\n",
       "    </tr>\n",
       "    <tr>\n",
       "      <th>18</th>\n",
       "      <td>(\", \\n\\n, \", Is, that, his, design, in, settli...</td>\n",
       "      <td>[]</td>\n",
       "    </tr>\n",
       "    <tr>\n",
       "      <th>19</th>\n",
       "      <td>(nonsense, ,, how, can, you, talk, so, !)</td>\n",
       "      <td>[]</td>\n",
       "    </tr>\n",
       "  </tbody>\n",
       "</table>\n",
       "</div>"
      ],
      "text/plain": [
       "                                             sentence  \\\n",
       "0                                (﻿CHAPTER, I., \\n\\n)   \n",
       "1   (It, is, a, truth, universally, acknowledged, ...   \n",
       "2   (However, little, known, the, feelings, or, vi...   \n",
       "3   (\", My, dear, Mr., Bennet, ,, \", said, his, la...   \n",
       "4   (\", \\n\\n, Mr., Bennet, replied, that, he, had,...   \n",
       "5   (\", But, it, is, ,, \", returned, she, ;, \", fo...   \n",
       "6   (\", \\n\\n, Mr., Bennet, made, no, answer, ., \\n\\n)   \n",
       "7   (\", Do, not, you, want, to, know, who, has, ta...   \n",
       "8   (\", You, want, to, tell, me, ,, and, I, have, ...   \n",
       "9   (\", \\n\\n, This, was, invitation, enough, ., \\n\\n)   \n",
       "10  (\", Why, ,, my, dear, ,, you, must, know, ,, M...   \n",
       "11  (\", \\n\\n, \", What, is, his, name, ?, \", \\n\\n, ...   \n",
       "12  (\", \\n\\n, \", Is, he, married, or, single, ?, \"...   \n",
       "13  (A, single, man, of, large, fortune, ;, four, ...   \n",
       "14  (What, a, fine, thing, for, our, girls, !, \", ...   \n",
       "15                    (how, can, it, affect, them, ?)   \n",
       "16  (\", \\n\\n, \", My, dear, Mr., Bennet, ,, \", repl...   \n",
       "17  (You, \\n, must, know, that, I, am, thinking, o...   \n",
       "18  (\", \\n\\n, \", Is, that, his, design, in, settli...   \n",
       "19          (nonsense, ,, how, can, you, talk, so, !)   \n",
       "\n",
       "                      entities  \n",
       "0            [﻿CHAPTER I.\\n\\n]  \n",
       "1                           []  \n",
       "2                           []  \n",
       "3                     [Bennet]  \n",
       "4                     [Bennet]  \n",
       "5                       [Long]  \n",
       "6                     [Bennet]  \n",
       "7                           []  \n",
       "8                           []  \n",
       "9                           []  \n",
       "10  [Long, Morris, Michaelmas]  \n",
       "11                          []  \n",
       "12                          []  \n",
       "13                          []  \n",
       "14                          []  \n",
       "15                          []  \n",
       "16                    [Bennet]  \n",
       "17                          []  \n",
       "18                          []  \n",
       "19                          []  "
      ]
     },
     "execution_count": 19,
     "metadata": {},
     "output_type": "execute_result"
    }
   ],
   "source": [
    "sent_entity_df.head(20)"
   ]
  },
  {
   "cell_type": "code",
   "execution_count": 21,
   "metadata": {},
   "outputs": [],
   "source": [
    "#Filtra apenas as entidades existentes na lista de personagens\n",
    "def filter_entity(ent_list,character_df):\n",
    "    return[ent for ent in ent_list\n",
    "           if ent in list(character_df.Characters)\n",
    "           or ent in list(character_df.Firstname)\n",
    "           or ent in list(character_df.Nickname)\n",
    "           or ent in list(character_df.Nickname2)]"
   ]
  },
  {
   "cell_type": "code",
   "execution_count": 22,
   "metadata": {},
   "outputs": [],
   "source": [
    "#Filtro para buscar o nome real do personagem\n",
    "def filter_entity_2(ent_list, character_df):\n",
    "    if not isinstance(character_df, pd.DataFrame):\n",
    "        raise ValueError(\"character_df deve ser um DataFrame do pandas\")\n",
    "    \n",
    "    real_names = []\n",
    "\n",
    "    for index, row in character_df.iterrows():\n",
    "        if any(ent in row[['Characters', 'Firstname', 'Nickname', 'Nickname2']].values for ent in ent_list):\n",
    "            real_names.append(row['real_name'])\n",
    "    return real_names"
   ]
  },
  {
   "cell_type": "code",
   "execution_count": 23,
   "metadata": {},
   "outputs": [
    {
     "data": {
      "text/plain": [
       "['Lewis', 'Lady Catherine']"
      ]
     },
     "execution_count": 23,
     "metadata": {},
     "output_type": "execute_result"
    }
   ],
   "source": [
    "filter_entity_2([\"Lady Catherine\",\"Thu\",\"2\",\"Sir Lewis de Bourgh\"],data_characters)"
   ]
  },
  {
   "cell_type": "code",
   "execution_count": 24,
   "metadata": {},
   "outputs": [],
   "source": [
    "#Cria uma nova coluna e adiciona seu respectivo nome real\n",
    "sent_entity_df['characters_entities'] = sent_entity_df['entities'].apply(lambda x: filter_entity_2(x,data_characters))\n",
    "#Mantém no dataframe apenas linhas que possuam correspondencia na coluna \"entities\"\n",
    "sent_entity_df_filtered = sent_entity_df[sent_entity_df['characters_entities'].map(len)> 0]"
   ]
  },
  {
   "cell_type": "code",
   "execution_count": 25,
   "metadata": {},
   "outputs": [
    {
     "data": {
      "text/html": [
       "<div>\n",
       "<style scoped>\n",
       "    .dataframe tbody tr th:only-of-type {\n",
       "        vertical-align: middle;\n",
       "    }\n",
       "\n",
       "    .dataframe tbody tr th {\n",
       "        vertical-align: top;\n",
       "    }\n",
       "\n",
       "    .dataframe thead th {\n",
       "        text-align: right;\n",
       "    }\n",
       "</style>\n",
       "<table border=\"1\" class=\"dataframe\">\n",
       "  <thead>\n",
       "    <tr style=\"text-align: right;\">\n",
       "      <th></th>\n",
       "      <th>sentence</th>\n",
       "      <th>entities</th>\n",
       "      <th>characters_entities</th>\n",
       "    </tr>\n",
       "  </thead>\n",
       "  <tbody>\n",
       "    <tr>\n",
       "      <th>3</th>\n",
       "      <td>(\", My, dear, Mr., Bennet, ,, \", said, his, la...</td>\n",
       "      <td>[Bennet]</td>\n",
       "      <td>[Mr. Bennet/Mrs.Bennet, Mr. Bennet/Mrs.Bennet]</td>\n",
       "    </tr>\n",
       "    <tr>\n",
       "      <th>4</th>\n",
       "      <td>(\", \\n\\n, Mr., Bennet, replied, that, he, had,...</td>\n",
       "      <td>[Bennet]</td>\n",
       "      <td>[Mr. Bennet/Mrs.Bennet, Mr. Bennet/Mrs.Bennet]</td>\n",
       "    </tr>\n",
       "    <tr>\n",
       "      <th>5</th>\n",
       "      <td>(\", But, it, is, ,, \", returned, she, ;, \", fo...</td>\n",
       "      <td>[Long]</td>\n",
       "      <td>[Long]</td>\n",
       "    </tr>\n",
       "    <tr>\n",
       "      <th>6</th>\n",
       "      <td>(\", \\n\\n, Mr., Bennet, made, no, answer, ., \\n\\n)</td>\n",
       "      <td>[Bennet]</td>\n",
       "      <td>[Mr. Bennet/Mrs.Bennet, Mr. Bennet/Mrs.Bennet]</td>\n",
       "    </tr>\n",
       "    <tr>\n",
       "      <th>10</th>\n",
       "      <td>(\", Why, ,, my, dear, ,, you, must, know, ,, M...</td>\n",
       "      <td>[Long, Morris, Michaelmas]</td>\n",
       "      <td>[Long, Morris]</td>\n",
       "    </tr>\n",
       "    <tr>\n",
       "      <th>16</th>\n",
       "      <td>(\", \\n\\n, \", My, dear, Mr., Bennet, ,, \", repl...</td>\n",
       "      <td>[Bennet]</td>\n",
       "      <td>[Mr. Bennet/Mrs.Bennet, Mr. Bennet/Mrs.Bennet]</td>\n",
       "    </tr>\n",
       "    <tr>\n",
       "      <th>22</th>\n",
       "      <td>(You, and, the, girls, may, go, ,, or, you, ma...</td>\n",
       "      <td>[Bingley]</td>\n",
       "      <td>[Mr. Bingley]</td>\n",
       "    </tr>\n",
       "    <tr>\n",
       "      <th>27</th>\n",
       "      <td>(\", \\n\\n, \", But, ,, my, dear, ,, you, must, i...</td>\n",
       "      <td>[Bingley]</td>\n",
       "      <td>[Mr. Bingley]</td>\n",
       "    </tr>\n",
       "    <tr>\n",
       "      <th>31</th>\n",
       "      <td>(Sir, William, and, Lady, Lucas, are, determin...</td>\n",
       "      <td>[William, Lady Lucas]</td>\n",
       "      <td>[Lady Lucas, William]</td>\n",
       "    </tr>\n",
       "    <tr>\n",
       "      <th>34</th>\n",
       "      <td>(I, dare, say, Mr., Bingley, will, be, very, \\...</td>\n",
       "      <td>[Bingley, Lizzy]</td>\n",
       "      <td>[Elizabeth, Mr. Bingley]</td>\n",
       "    </tr>\n",
       "    <tr>\n",
       "      <th>36</th>\n",
       "      <td>(Lizzy, is, not, a, bit, better, than, the, \\n...</td>\n",
       "      <td>[Lizzy, Jane]</td>\n",
       "      <td>[Jane Bennet, Elizabeth]</td>\n",
       "    </tr>\n",
       "    <tr>\n",
       "      <th>38</th>\n",
       "      <td>(\", \\n\\n, \", They, have, none, of, them, much,...</td>\n",
       "      <td>[Lizzy]</td>\n",
       "      <td>[Elizabeth]</td>\n",
       "    </tr>\n",
       "    <tr>\n",
       "      <th>39</th>\n",
       "      <td>(\", \\n\\n, \", Mr., Bennet, ,, how, can, you, ab...</td>\n",
       "      <td>[Bennet]</td>\n",
       "      <td>[Mr. Bennet/Mrs.Bennet, Mr. Bennet/Mrs.Bennet]</td>\n",
       "    </tr>\n",
       "    <tr>\n",
       "      <th>50</th>\n",
       "      <td>(\", \\n\\n, Mr., Bennet, was, so, odd, a, mixtur...</td>\n",
       "      <td>[Bennet]</td>\n",
       "      <td>[Mr. Bennet/Mrs.Bennet, Mr. Bennet/Mrs.Bennet]</td>\n",
       "    </tr>\n",
       "    <tr>\n",
       "      <th>56</th>\n",
       "      <td>(Mr., Bennet, was, among, the, earliest, of, t...</td>\n",
       "      <td>[Bennet, Bingley]</td>\n",
       "      <td>[Mr. Bennet/Mrs.Bennet, Mr. Bennet/Mrs.Bennet,...</td>\n",
       "    </tr>\n",
       "  </tbody>\n",
       "</table>\n",
       "</div>"
      ],
      "text/plain": [
       "                                             sentence  \\\n",
       "3   (\", My, dear, Mr., Bennet, ,, \", said, his, la...   \n",
       "4   (\", \\n\\n, Mr., Bennet, replied, that, he, had,...   \n",
       "5   (\", But, it, is, ,, \", returned, she, ;, \", fo...   \n",
       "6   (\", \\n\\n, Mr., Bennet, made, no, answer, ., \\n\\n)   \n",
       "10  (\", Why, ,, my, dear, ,, you, must, know, ,, M...   \n",
       "16  (\", \\n\\n, \", My, dear, Mr., Bennet, ,, \", repl...   \n",
       "22  (You, and, the, girls, may, go, ,, or, you, ma...   \n",
       "27  (\", \\n\\n, \", But, ,, my, dear, ,, you, must, i...   \n",
       "31  (Sir, William, and, Lady, Lucas, are, determin...   \n",
       "34  (I, dare, say, Mr., Bingley, will, be, very, \\...   \n",
       "36  (Lizzy, is, not, a, bit, better, than, the, \\n...   \n",
       "38  (\", \\n\\n, \", They, have, none, of, them, much,...   \n",
       "39  (\", \\n\\n, \", Mr., Bennet, ,, how, can, you, ab...   \n",
       "50  (\", \\n\\n, Mr., Bennet, was, so, odd, a, mixtur...   \n",
       "56  (Mr., Bennet, was, among, the, earliest, of, t...   \n",
       "\n",
       "                      entities  \\\n",
       "3                     [Bennet]   \n",
       "4                     [Bennet]   \n",
       "5                       [Long]   \n",
       "6                     [Bennet]   \n",
       "10  [Long, Morris, Michaelmas]   \n",
       "16                    [Bennet]   \n",
       "22                   [Bingley]   \n",
       "27                   [Bingley]   \n",
       "31       [William, Lady Lucas]   \n",
       "34            [Bingley, Lizzy]   \n",
       "36               [Lizzy, Jane]   \n",
       "38                     [Lizzy]   \n",
       "39                    [Bennet]   \n",
       "50                    [Bennet]   \n",
       "56           [Bennet, Bingley]   \n",
       "\n",
       "                                  characters_entities  \n",
       "3      [Mr. Bennet/Mrs.Bennet, Mr. Bennet/Mrs.Bennet]  \n",
       "4      [Mr. Bennet/Mrs.Bennet, Mr. Bennet/Mrs.Bennet]  \n",
       "5                                              [Long]  \n",
       "6      [Mr. Bennet/Mrs.Bennet, Mr. Bennet/Mrs.Bennet]  \n",
       "10                                     [Long, Morris]  \n",
       "16     [Mr. Bennet/Mrs.Bennet, Mr. Bennet/Mrs.Bennet]  \n",
       "22                                      [Mr. Bingley]  \n",
       "27                                      [Mr. Bingley]  \n",
       "31                              [Lady Lucas, William]  \n",
       "34                           [Elizabeth, Mr. Bingley]  \n",
       "36                           [Jane Bennet, Elizabeth]  \n",
       "38                                        [Elizabeth]  \n",
       "39     [Mr. Bennet/Mrs.Bennet, Mr. Bennet/Mrs.Bennet]  \n",
       "50     [Mr. Bennet/Mrs.Bennet, Mr. Bennet/Mrs.Bennet]  \n",
       "56  [Mr. Bennet/Mrs.Bennet, Mr. Bennet/Mrs.Bennet,...  "
      ]
     },
     "execution_count": 25,
     "metadata": {},
     "output_type": "execute_result"
    }
   ],
   "source": [
    "sent_entity_df_filtered.head(15)"
   ]
  },
  {
   "cell_type": "markdown",
   "metadata": {},
   "source": [
    "## criando relações entre entidades"
   ]
  },
  {
   "cell_type": "code",
   "execution_count": 21,
   "metadata": {},
   "outputs": [],
   "source": [
    "window_size = 5\n",
    "relationships = []\n",
    "\n",
    "for i in range(sent_entity_df_filtered.index[-1]):\n",
    "    end_i = min(i+5, sent_entity_df_filtered.index[-1])\n",
    "    char_list = sum((sent_entity_df_filtered.loc[i: end_i].characters_entities), [])\n",
    "    \n",
    "    # Remove duplicated characters that are next to each other\n",
    "    char_unique = [char_list[i] for i in range(len(char_list)) \n",
    "                   if (i==0) or char_list[i] != char_list[i-1]]\n",
    "    \n",
    "    if len(char_unique) > 1:\n",
    "        for idx, a in enumerate(char_unique[:-1]):\n",
    "            b = char_unique[idx + 1]\n",
    "            relationships.append({\"source\": a, \"target\": b})"
   ]
  },
  {
   "cell_type": "code",
   "execution_count": 22,
   "metadata": {},
   "outputs": [],
   "source": [
    "relation_df = pd.DataFrame(relationships)"
   ]
  },
  {
   "cell_type": "code",
   "execution_count": 23,
   "metadata": {},
   "outputs": [
    {
     "data": {
      "text/html": [
       "<div>\n",
       "<style scoped>\n",
       "    .dataframe tbody tr th:only-of-type {\n",
       "        vertical-align: middle;\n",
       "    }\n",
       "\n",
       "    .dataframe tbody tr th {\n",
       "        vertical-align: top;\n",
       "    }\n",
       "\n",
       "    .dataframe thead th {\n",
       "        text-align: right;\n",
       "    }\n",
       "</style>\n",
       "<table border=\"1\" class=\"dataframe\">\n",
       "  <thead>\n",
       "    <tr style=\"text-align: right;\">\n",
       "      <th></th>\n",
       "      <th>source</th>\n",
       "      <th>target</th>\n",
       "    </tr>\n",
       "  </thead>\n",
       "  <tbody>\n",
       "    <tr>\n",
       "      <th>0</th>\n",
       "      <td>Mr. Bennet/Mrs.Bennet</td>\n",
       "      <td>Long</td>\n",
       "    </tr>\n",
       "    <tr>\n",
       "      <th>1</th>\n",
       "      <td>Mr. Bennet/Mrs.Bennet</td>\n",
       "      <td>Long</td>\n",
       "    </tr>\n",
       "    <tr>\n",
       "      <th>2</th>\n",
       "      <td>Long</td>\n",
       "      <td>Mr. Bennet/Mrs.Bennet</td>\n",
       "    </tr>\n",
       "    <tr>\n",
       "      <th>3</th>\n",
       "      <td>Mr. Bennet/Mrs.Bennet</td>\n",
       "      <td>Long</td>\n",
       "    </tr>\n",
       "    <tr>\n",
       "      <th>4</th>\n",
       "      <td>Long</td>\n",
       "      <td>Mr. Bennet/Mrs.Bennet</td>\n",
       "    </tr>\n",
       "  </tbody>\n",
       "</table>\n",
       "</div>"
      ],
      "text/plain": [
       "                  source                 target\n",
       "0  Mr. Bennet/Mrs.Bennet                   Long\n",
       "1  Mr. Bennet/Mrs.Bennet                   Long\n",
       "2                   Long  Mr. Bennet/Mrs.Bennet\n",
       "3  Mr. Bennet/Mrs.Bennet                   Long\n",
       "4                   Long  Mr. Bennet/Mrs.Bennet"
      ]
     },
     "execution_count": 23,
     "metadata": {},
     "output_type": "execute_result"
    }
   ],
   "source": [
    "relation_df.head(5)"
   ]
  },
  {
   "cell_type": "code",
   "execution_count": 24,
   "metadata": {},
   "outputs": [],
   "source": [
    "relation_df[\"value\"] = 1\n",
    "relationship_df = relation_df.groupby([\"source\",\"target\"], sort=False, as_index=False).sum()"
   ]
  },
  {
   "cell_type": "code",
   "execution_count": 25,
   "metadata": {},
   "outputs": [
    {
     "data": {
      "text/html": [
       "<div>\n",
       "<style scoped>\n",
       "    .dataframe tbody tr th:only-of-type {\n",
       "        vertical-align: middle;\n",
       "    }\n",
       "\n",
       "    .dataframe tbody tr th {\n",
       "        vertical-align: top;\n",
       "    }\n",
       "\n",
       "    .dataframe thead th {\n",
       "        text-align: right;\n",
       "    }\n",
       "</style>\n",
       "<table border=\"1\" class=\"dataframe\">\n",
       "  <thead>\n",
       "    <tr style=\"text-align: right;\">\n",
       "      <th></th>\n",
       "      <th>source</th>\n",
       "      <th>target</th>\n",
       "      <th>value</th>\n",
       "    </tr>\n",
       "  </thead>\n",
       "  <tbody>\n",
       "    <tr>\n",
       "      <th>0</th>\n",
       "      <td>Mr. Bennet/Mrs.Bennet</td>\n",
       "      <td>Long</td>\n",
       "      <td>14</td>\n",
       "    </tr>\n",
       "    <tr>\n",
       "      <th>1</th>\n",
       "      <td>Long</td>\n",
       "      <td>Mr. Bennet/Mrs.Bennet</td>\n",
       "      <td>19</td>\n",
       "    </tr>\n",
       "    <tr>\n",
       "      <th>2</th>\n",
       "      <td>Long</td>\n",
       "      <td>Morris</td>\n",
       "      <td>6</td>\n",
       "    </tr>\n",
       "    <tr>\n",
       "      <th>3</th>\n",
       "      <td>Mr. Bingley</td>\n",
       "      <td>Lady Lucas</td>\n",
       "      <td>23</td>\n",
       "    </tr>\n",
       "    <tr>\n",
       "      <th>4</th>\n",
       "      <td>Lady Lucas</td>\n",
       "      <td>William</td>\n",
       "      <td>24</td>\n",
       "    </tr>\n",
       "    <tr>\n",
       "      <th>5</th>\n",
       "      <td>William</td>\n",
       "      <td>Elizabeth</td>\n",
       "      <td>44</td>\n",
       "    </tr>\n",
       "    <tr>\n",
       "      <th>6</th>\n",
       "      <td>Elizabeth</td>\n",
       "      <td>Mr. Bingley</td>\n",
       "      <td>269</td>\n",
       "    </tr>\n",
       "    <tr>\n",
       "      <th>7</th>\n",
       "      <td>Mr. Bingley</td>\n",
       "      <td>Jane Bennet</td>\n",
       "      <td>98</td>\n",
       "    </tr>\n",
       "    <tr>\n",
       "      <th>8</th>\n",
       "      <td>Jane Bennet</td>\n",
       "      <td>Elizabeth</td>\n",
       "      <td>641</td>\n",
       "    </tr>\n",
       "    <tr>\n",
       "      <th>9</th>\n",
       "      <td>Elizabeth</td>\n",
       "      <td>Mr. Bennet/Mrs.Bennet</td>\n",
       "      <td>184</td>\n",
       "    </tr>\n",
       "  </tbody>\n",
       "</table>\n",
       "</div>"
      ],
      "text/plain": [
       "                  source                 target  value\n",
       "0  Mr. Bennet/Mrs.Bennet                   Long     14\n",
       "1                   Long  Mr. Bennet/Mrs.Bennet     19\n",
       "2                   Long                 Morris      6\n",
       "3            Mr. Bingley             Lady Lucas     23\n",
       "4             Lady Lucas                William     24\n",
       "5                William              Elizabeth     44\n",
       "6              Elizabeth            Mr. Bingley    269\n",
       "7            Mr. Bingley            Jane Bennet     98\n",
       "8            Jane Bennet              Elizabeth    641\n",
       "9              Elizabeth  Mr. Bennet/Mrs.Bennet    184"
      ]
     },
     "execution_count": 25,
     "metadata": {},
     "output_type": "execute_result"
    }
   ],
   "source": [
    "relationship_df.head(10)"
   ]
  },
  {
   "cell_type": "code",
   "execution_count": 26,
   "metadata": {},
   "outputs": [],
   "source": [
    "# Create a graph from a pandas dataframe\n",
    "G = nx.from_pandas_edgelist(relationship_df, \n",
    "                            source = \"source\", \n",
    "                            target = \"target\", \n",
    "                            edge_attr = \"value\", \n",
    "                            create_using = nx.Graph()\n",
    "                            )\n",
    "communities = community_louvain.best_partition(G)\n",
    "nx.set_node_attributes(G,communities,'group')"
   ]
  },
  {
   "cell_type": "code",
   "execution_count": 27,
   "metadata": {},
   "outputs": [],
   "source": [
    "#plt.figure(figsize=(10,10))\n",
    "#pos = nx.kamada_kawai_layout(G)\n",
    "#nx.draw(G, with_labels=True, node_color='skyblue', edge_cmap=plt.cm.Blues, pos = pos)\n",
    "#plt.show()"
   ]
  },
  {
   "cell_type": "code",
   "execution_count": 28,
   "metadata": {},
   "outputs": [
    {
     "name": "stdout",
     "output_type": "stream",
     "text": [
      "Warning: When  cdn_resources is 'local' jupyter notebook has issues displaying graphics on chrome/safari. Use cdn_resources='in_line' or cdn_resources='remote' if you have issues viewing graphics in a notebook.\n",
      "Pride_and_prejudice.html\n"
     ]
    },
    {
     "data": {
      "text/html": [
       "\n",
       "        <iframe\n",
       "            width=\"1920px\"\n",
       "            height=\"1080px\"\n",
       "            src=\"Pride_and_prejudice.html\"\n",
       "            frameborder=\"0\"\n",
       "            allowfullscreen\n",
       "            \n",
       "        ></iframe>\n",
       "        "
      ],
      "text/plain": [
       "<IPython.lib.display.IFrame at 0x1ef8cfd93c0>"
      ]
     },
     "execution_count": 28,
     "metadata": {},
     "output_type": "execute_result"
    }
   ],
   "source": [
    "from pyvis.network import Network\n",
    "net = Network(notebook= True, width=\"1920px\",height=\"1080px\",bgcolor='#222222',font_color= \"white\",neighborhood_highlight=True)\n",
    "net.barnes_hut(gravity=-800)\n",
    "net.from_nx(G)\n",
    "net.show('Pride_and_prejudice.html')"
   ]
  },
  {
   "cell_type": "code",
   "execution_count": 29,
   "metadata": {},
   "outputs": [
    {
     "name": "stdout",
     "output_type": "stream",
     "text": [
      "Warning: When  cdn_resources is 'local' jupyter notebook has issues displaying graphics on chrome/safari. Use cdn_resources='in_line' or cdn_resources='remote' if you have issues viewing graphics in a notebook.\n",
      "pride.html\n"
     ]
    },
    {
     "data": {
      "text/html": [
       "\n",
       "        <iframe\n",
       "            width=\"100%\"\n",
       "            height=\"750px\"\n",
       "            src=\"pride.html\"\n",
       "            frameborder=\"0\"\n",
       "            allowfullscreen\n",
       "            \n",
       "        ></iframe>\n",
       "        "
      ],
      "text/plain": [
       "<IPython.lib.display.IFrame at 0x1ef948d26e0>"
      ]
     },
     "execution_count": 29,
     "metadata": {},
     "output_type": "execute_result"
    }
   ],
   "source": [
    "from pyvis.network import Network\n",
    "sources = relationship_df['source']\n",
    "targets = relationship_df['target']\n",
    "weights = relationship_df['value']\n",
    "got_net = Network(notebook= True,height=\"750px\", width=\"100%\", bgcolor=\"#222222\", font_color=\"white\")\n",
    "got_net.barnes_hut()\n",
    "\n",
    "edge_data = zip(sources, targets, weights)\n",
    "\n",
    "for e in edge_data:\n",
    "                src = e[0]\n",
    "                dst = e[1]\n",
    "                w = e[2]\n",
    "\n",
    "                got_net.add_node(src, src, title=src)\n",
    "                got_net.add_node(dst, dst, title=dst)\n",
    "                got_net.add_edge(src, dst, value=w)\n",
    "\n",
    "neighbor_map = got_net.get_adj_list()\n",
    "\n",
    "# add neighbor data to node hover data\n",
    "for node in got_net.nodes:\n",
    "                node[\"title\"] += \" Neighbors:<br>\" + \"<br>\".join(neighbor_map[node[\"id\"]])\n",
    "                node[\"value\"] = len(neighbor_map[node[\"id\"]])\n",
    "\n",
    "net.show_buttons(filter_=['physics'])\n",
    "got_net.show(\"pride.html\")"
   ]
  },
  {
   "cell_type": "code",
   "execution_count": null,
   "metadata": {},
   "outputs": [],
   "source": []
  }
 ],
 "metadata": {
  "kernelspec": {
   "display_name": "Python 3 (ipykernel)",
   "language": "python",
   "name": "python3"
  },
  "language_info": {
   "codemirror_mode": {
    "name": "ipython",
    "version": 3
   },
   "file_extension": ".py",
   "mimetype": "text/x-python",
   "name": "python",
   "nbconvert_exporter": "python",
   "pygments_lexer": "ipython3",
   "version": "3.10.14"
  }
 },
 "nbformat": 4,
 "nbformat_minor": 2
}
